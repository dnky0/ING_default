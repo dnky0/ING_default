{
 "cells": [
  {
   "cell_type": "code",
   "execution_count": 52,
   "metadata": {
    "collapsed": false
   },
   "outputs": [
    {
     "name": "stdout",
     "output_type": "stream",
     "text": [
      "D:\\Users\\Niels\\Documents\\Machine learning\\python\\ING\n"
     ]
    }
   ],
   "source": [
    "cd D:\\Users\\Niels\\Documents\\Machine learning\\python\\ING"
   ]
  },
  {
   "cell_type": "code",
   "execution_count": 53,
   "metadata": {
    "collapsed": false
   },
   "outputs": [
    {
     "name": "stdout",
     "output_type": "stream",
     "text": [
      "reading the data...\n",
      "Columns: ['num_employees', 'country', 'industry_desc', 'A_score', 'B_score', 'C_score', 'D_score', 'revenue2014', 'revenue2015', 'revenue2016', 'bankrupt']\n",
      "Train shape: (293122, 11)\n",
      "Test shape: (206878, 11)\n"
     ]
    }
   ],
   "source": [
    "import pandas as pd\n",
    "\n",
    "print(\"reading the data...\")\n",
    "train_df = pd.read_csv(\"train.csv\")\n",
    "test_df = pd.read_csv(\"test.csv\")\n",
    "print(\"Columns:\", list(train_df.columns))\n",
    "print(\"Train shape:\", train_df.shape)\n",
    "print(\"Test shape:\", test_df.shape)"
   ]
  },
  {
   "cell_type": "code",
   "execution_count": 54,
   "metadata": {
    "collapsed": false
   },
   "outputs": [
    {
     "name": "stdout",
     "output_type": "stream",
     "text": [
      "processing the industry_desc...\n",
      "Columns: ['num_employees', 'country', 'industry_desc', 'A_score', 'B_score', 'C_score', 'D_score', 'revenue2014', 'revenue2015', 'revenue2016', 'bankrupt', 'industry_score']\n"
     ]
    }
   ],
   "source": [
    "print(\"processing the industry_desc...\")\n",
    "\n",
    "# Get the list of industries with number of occurrences\n",
    "industries = pd.value_counts(train_df[\"industry_desc\"])\n",
    "\n",
    "train_df[\"industry_score\"]=\"\"\n",
    "for idx, total in industries.iteritems():\n",
    "    subdata = train_df.loc[train_df[\"industry_desc\"] == idx][[\"bankrupt\"]]\n",
    "    # Determine the number of bankruptcies and calculate default probability\n",
    "    default_prob = 0\n",
    "    if total > 0:\n",
    "        counts = pd.value_counts(subdata[\"bankrupt\"]).multiply(1./total)\n",
    "        default_prob = counts.values[-1]\n",
    "    if default_prob < 0.05:\n",
    "        train_df.loc[train_df[\"industry_desc\"] == idx, [\"industry_score\"]] = \"A\"\n",
    "    elif default_prob < 0.15:\n",
    "        train_df.loc[train_df[\"industry_desc\"] == idx, [\"industry_score\"]] = \"B\"\n",
    "    elif default_prob < 0.3:\n",
    "        train_df.loc[train_df[\"industry_desc\"] == idx, [\"industry_score\"]] = \"C\"\n",
    "    else:\n",
    "        train_df.loc[train_df[\"industry_desc\"] == idx, [\"industry_score\"]] = \"D\"\n",
    "        \n",
    "print(\"Columns:\", list(train_df.columns))"
   ]
  },
  {
   "cell_type": "code",
   "execution_count": 55,
   "metadata": {
    "collapsed": false
   },
   "outputs": [
    {
     "name": "stdout",
     "output_type": "stream",
     "text": [
      "preprocessing...\n",
      "Columns: ['num_employees', 'industry_desc', 'A_score', 'B_score', 'C_score', 'D_score', 'revenue2014', 'revenue2015', 'revenue2016', 'bankrupt', 'country_CN', 'country_EN', 'country_NL', 'country_TR', 'country_US', 'industry_score_A', 'industry_score_B', 'industry_score_C', 'industry_score_D']\n"
     ]
    }
   ],
   "source": [
    "print(\"preprocessing...\")\n",
    "\n",
    "# Create dummy variables for the country category\n",
    "train_df = pd.get_dummies(train_df.fillna(0), columns=[\"country\"])\n",
    "test_df = pd.get_dummies(test_df.fillna(0), columns=[\"country\"])\n",
    "#print(\"Columns:\", list(train_df.columns))\n",
    "\n",
    "# Create dummy variables for the industry category\n",
    "train_df = pd.get_dummies(train_df.fillna(0), columns=[\"industry_score\"])\n",
    "#test_df = pd.get_dummies(test_df.fillna(0), columns=[\"industry_score\"])\n",
    "print(\"Columns:\", list(train_df.columns))"
   ]
  },
  {
   "cell_type": "code",
   "execution_count": 56,
   "metadata": {
    "collapsed": false
   },
   "outputs": [],
   "source": [
    "import numpy as np\n",
    "from sklearn import preprocessing\n",
    "\n",
    "\n",
    "# Revenues slopes\n",
    "slopes=[]\n",
    "for index, d in train_df.iterrows():\n",
    "    #m = np.mean(d.values[6:9])\n",
    "    #b =np.polyfit(np.array([1, 2, 3,]) , d.values[6:9], 1)\n",
    "    m = np.mean(np.array([d.values[6],d.values[8]]))\n",
    "    b =np.polyfit(np.array([1, 2]), np.array([d.values[6],d.values[8]]), 1)\n",
    "    slopes.append(b[0]/m)\n",
    "\n",
    "train_df = train_df.join(pd.DataFrame(slopes, columns=[\"rev_slope\"]))\n",
    "train_df[\"rev_slope\"]= preprocessing.scale(train_df[\"rev_slope\"])\n",
    "\n",
    "print(\"Columns:\", list(train_df.columns))"
   ]
  },
  {
   "cell_type": "code",
   "execution_count": 67,
   "metadata": {
    "collapsed": false
   },
   "outputs": [],
   "source": [
    "import numpy as np\n",
    "from sklearn import preprocessing\n",
    "min_max_scaler = preprocessing.MinMaxScaler()\n",
    "\n",
    "# Scale data. Employees\n",
    "min_employees = np.min(train_df[\"num_employees\"].values)\n",
    "train_df[\"num_employees\"] = train_df[\"num_employees\"].apply(lambda x: np.log(x - min_employees + 1))\n",
    "train_df[\"num_employees\"] = preprocessing.scale(train_df[\"num_employees\"])\n",
    "\n",
    "# Scale data. Revenues\n",
    "for revenue in ['revenue2014', 'revenue2015', 'revenue2016']:\n",
    "    min_revenues = np.min(train_df[revenue].values)\n",
    "    train_df[revenue] = train_df[revenue].apply(lambda x: np.log(x - min_revenues + 1))\n",
    "    train_df[revenue] = preprocessing.scale(train_df[revenue])"
   ]
  },
  {
   "cell_type": "code",
   "execution_count": 70,
   "metadata": {
    "collapsed": true
   },
   "outputs": [],
   "source": [
    "# Fill missing score\n",
    "score_labels = [\"A_score\",\"B_score\",\"C_score\",\"D_score\"]\n",
    "for score in score_labels:\n",
    "    train_df.loc[:,[score]] = train_df.fillna({score:3})\n",
    "    train_df[score] = preprocessing.scale(train_df[score])"
   ]
  },
  {
   "cell_type": "code",
   "execution_count": 71,
   "metadata": {
    "collapsed": false
   },
   "outputs": [
    {
     "name": "stdout",
     "output_type": "stream",
     "text": [
      "Train shape: (234497, 20)\n",
      "Validation shape: (58625, 20)\n",
      "        num_employees                                      industry_desc  \\\n",
      "2311        -1.379750  Drycleaning and Laundry Services (except Coin-...   \n",
      "259077      -0.001787              Nitrogenous Fertilizer Manufacturing    \n",
      "91518        0.448028            Musical Instrument and Supplies Stores    \n",
      "212468       0.123678  Services for the Elderly and Persons with Disa...   \n",
      "38033       -0.922919  Teleproduction and Other Postproduction Services    \n",
      "208259      -0.922919  Oil and Gas Pipeline and Related Structures Co...   \n",
      "185294       0.150343                         Drilling Oil and Gas Wells   \n",
      "21961        0.653408               Frozen Specialty Food Manufacturing    \n",
      "182748       0.918463                                    Radio Networks    \n",
      "197064      -0.534197                                       Nail Salons    \n",
      "66624       -0.904600                                      Linen Supply    \n",
      "126151      -1.067914                  Oilseed (except Soybean) Farming    \n",
      "33322       -1.183004    All Other Basic Organic Chemical Manufacturing    \n",
      "116039       0.477298    Asphalt Paving Mixture and Block Manufacturing    \n",
      "200896       0.739068                          Tax Preparation Services    \n",
      "132296      -1.298093                Offices of Other Holding Companies    \n",
      "50014       -0.342303                          Tax Preparation Services    \n",
      "188451       1.006854  Dry Pasta, Dough, and Flour Mixes Manufacturin...   \n",
      "104782       1.337805                        Crude Petroleum Extraction    \n",
      "201784      -1.379750                              Securities Brokerage    \n",
      "128614      -0.827413                                        Car Washes    \n",
      "13456       -1.691586     Light Truck and Utility Vehicle Manufacturing    \n",
      "254065      -0.212899               Fats and Oils Refining and Blending    \n",
      "113530      -0.347239  Computer and Office Machine Repair and Mainten...   \n",
      "105967       0.587437             Polystyrene Foam Product Manufacturing   \n",
      "247778       0.747086  Jewelry, Watch, Precious Stone, and Precious M...   \n",
      "105779      -1.038008                          Fluid Milk Manufacturing    \n",
      "97739        1.614169             Institutional Furniture Manufacturing    \n",
      "69113       -0.651702     Commercial Printing (except Screen and Books)    \n",
      "188517       1.581510                Other Food Crops Grown Under Cover    \n",
      "\n",
      "         A_score   B_score   C_score   D_score  revenue2014  revenue2015  \\\n",
      "2311    0.207387 -0.964507  0.219038 -0.698226     1.458950     1.656617   \n",
      "259077 -0.479868 -0.240214  0.219038 -0.698226    -0.321433    -0.555188   \n",
      "91518  -1.854378  0.484078 -0.508215  1.261325    -0.194653     0.045014   \n",
      "212468  1.581897  1.932664  0.946291  1.261325    -1.051057    -0.834115   \n",
      "38033   0.207387  0.484078  0.219038  1.261325    -0.439958    -0.755503   \n",
      "208259 -0.479868  0.484078  0.946291  1.261325    -0.816953    -0.440215   \n",
      "185294  1.581897  1.208371 -1.235468  1.261325    -0.484937    -1.168349   \n",
      "21961   0.207387  0.484078  1.673543 -0.045042    -0.130997    -0.161434   \n",
      "182748  0.207387 -0.240214 -1.962721  0.608142    -1.202096    -1.238753   \n",
      "197064  0.894642  0.484078 -0.508215 -0.045042     1.702023     1.501891   \n",
      "66624   0.207387 -0.964507  0.219038 -0.045042     1.814031     1.757684   \n",
      "126151 -0.479868 -0.964507  1.673543 -0.045042     0.557082     0.799543   \n",
      "33322   0.207387 -0.964507 -1.962721 -0.698226    -2.284236    -1.572774   \n",
      "116039 -0.479868  0.484078  0.946291 -0.045042    -0.658223    -1.146368   \n",
      "200896 -0.479868 -0.240214 -1.235468 -0.698226    -0.213328     0.147521   \n",
      "132296  1.581897  1.208371 -1.235468  1.261325    -0.422515    -0.176919   \n",
      "50014   0.207387 -0.964507  0.219038  1.261325    -0.877756    -1.348567   \n",
      "188451  1.581897  1.208371  0.946291  0.608142    -1.949464    -1.250467   \n",
      "104782 -0.479868 -0.964507 -1.962721 -0.045042     1.146501     0.667556   \n",
      "201784  0.207387  0.484078 -1.962721  1.261325     0.788690     1.015993   \n",
      "128614 -1.854378 -0.964507  0.946291 -0.045042     1.940078     1.500986   \n",
      "13456  -1.854378  1.208371  0.946291  0.608142    -0.365841    -1.105572   \n",
      "254065 -0.479868  0.484078 -0.508215 -0.045042     1.534057     0.862540   \n",
      "113530 -0.479868 -0.964507 -0.508215 -2.004593     0.117084     0.282703   \n",
      "105967 -1.167123 -0.964507 -1.235468 -0.045042    -1.041889    -0.309862   \n",
      "247778  0.894642  0.484078  0.946291 -0.045042     0.646675     1.614698   \n",
      "105779 -1.854378  0.484078  0.219038 -2.004593    -0.885944    -0.172459   \n",
      "97739  -1.167123 -0.240214  0.219038  0.608142     0.078478    -0.085102   \n",
      "69113  -0.479868 -0.240214  0.219038 -0.045042    -0.614273    -0.866666   \n",
      "188517  0.207387  0.484078 -0.508215  1.261325    -1.052599    -0.663398   \n",
      "\n",
      "        revenue2016  bankrupt  country_CN  country_EN  country_NL  country_TR  \\\n",
      "2311       1.286797         0           0           0           0           1   \n",
      "259077    -0.849392         0           0           1           0           0   \n",
      "91518      0.444800         0           0           1           0           0   \n",
      "212468    -0.327338         0           0           0           0           1   \n",
      "38033     -0.733184         0           0           1           0           0   \n",
      "208259    -0.130435         0           1           0           0           0   \n",
      "185294    -1.558345         0           1           0           0           0   \n",
      "21961     -0.318988         0           0           0           0           0   \n",
      "182748    -1.038856         0           0           0           1           0   \n",
      "197064     1.368066         0           1           0           0           0   \n",
      "66624      1.380394         0           0           0           0           1   \n",
      "126151     1.359637         0           0           0           0           1   \n",
      "33322     -1.266177         0           0           0           1           0   \n",
      "116039    -1.150401         0           0           0           0           1   \n",
      "200896     0.410120         0           0           0           0           0   \n",
      "132296     0.162173         0           0           0           0           0   \n",
      "50014     -1.320779         0           0           0           0           0   \n",
      "188451    -1.165821         1           0           0           1           0   \n",
      "104782    -0.110286         1           1           0           0           0   \n",
      "201784     1.345509         0           1           0           0           0   \n",
      "128614     0.982085         0           0           0           0           0   \n",
      "13456     -1.809559         0           1           0           0           0   \n",
      "254065     0.482154         0           0           1           0           0   \n",
      "113530     0.784563         0           0           0           1           0   \n",
      "105967    -0.298362         0           1           0           0           0   \n",
      "247778     1.824256         0           0           0           0           1   \n",
      "105779     0.084138         0           0           1           0           0   \n",
      "97739     -0.112437         0           0           0           1           0   \n",
      "69113     -0.954910         0           0           0           0           1   \n",
      "188517    -0.485512         0           0           0           0           0   \n",
      "\n",
      "        country_US  industry_score_A  industry_score_B  industry_score_C  \\\n",
      "2311             0                 1                 0                 0   \n",
      "259077           0                 1                 0                 0   \n",
      "91518            0                 0                 1                 0   \n",
      "212468           0                 0                 1                 0   \n",
      "38033            0                 1                 0                 0   \n",
      "208259           0                 0                 1                 0   \n",
      "185294           0                 0                 0                 1   \n",
      "21961            1                 0                 0                 1   \n",
      "182748           0                 1                 0                 0   \n",
      "197064           0                 1                 0                 0   \n",
      "66624            0                 1                 0                 0   \n",
      "126151           0                 1                 0                 0   \n",
      "33322            0                 1                 0                 0   \n",
      "116039           0                 1                 0                 0   \n",
      "200896           1                 1                 0                 0   \n",
      "132296           1                 1                 0                 0   \n",
      "50014            1                 1                 0                 0   \n",
      "188451           0                 0                 0                 1   \n",
      "104782           0                 0                 0                 1   \n",
      "201784           0                 0                 0                 0   \n",
      "128614           1                 1                 0                 0   \n",
      "13456            0                 1                 0                 0   \n",
      "254065           0                 0                 0                 1   \n",
      "113530           0                 1                 0                 0   \n",
      "105967           0                 1                 0                 0   \n",
      "247778           0                 0                 1                 0   \n",
      "105779           0                 0                 0                 1   \n",
      "97739            0                 1                 0                 0   \n",
      "69113            0                 1                 0                 0   \n",
      "188517           1                 1                 0                 0   \n",
      "\n",
      "        industry_score_D  rev_slope  \n",
      "2311                   0  -0.505251  \n",
      "259077                 0  -0.547783  \n",
      "91518                  0   0.838291  \n",
      "212468                 0   1.009739  \n",
      "38033                  0  -0.214177  \n",
      "208259                 0   0.956840  \n",
      "185294                 0  -1.069116  \n",
      "21961                  0  -0.162420  \n",
      "182748                 0   0.520550  \n",
      "197064                 0  -0.778079  \n",
      "66624                  0  -0.930739  \n",
      "126151                 0   0.890210  \n",
      "33322                  0   1.208198  \n",
      "116039                 0  -0.385720  \n",
      "200896                 0   0.825535  \n",
      "132296                 0   0.817154  \n",
      "50014                  0  -0.243652  \n",
      "188451                 0   1.092837  \n",
      "104782                 0  -1.657423  \n",
      "201784                 1   0.601808  \n",
      "128614                 0  -1.524496  \n",
      "13456                  0  -1.407212  \n",
      "254065                 0  -1.549435  \n",
      "113530                 0   0.822094  \n",
      "105967                 0   1.024187  \n",
      "247778                 0   1.176668  \n",
      "105779                 0   1.171901  \n",
      "97739                  0  -0.219460  \n",
      "69113                  0  -0.218689  \n",
      "188517                 0   0.881181  \n"
     ]
    }
   ],
   "source": [
    "from sklearn.model_selection import train_test_split\n",
    "\n",
    "# Split the data into training and validation sets\n",
    "target = \"bankrupt\"\n",
    "#training_df, validation_df = train_test_split(train_df, test_size=0.2, stratify=train_df[target], shuffle=True, random_state=0)\n",
    "training_df, validation_df = train_test_split(train_df, test_size=0.2, stratify=train_df[target], random_state=0)\n",
    "print(\"Train shape:\", training_df.shape)\n",
    "print(\"Validation shape:\", validation_df.shape)\n",
    "print(training_df.head(30))"
   ]
  },
  {
   "cell_type": "code",
   "execution_count": 72,
   "metadata": {
    "collapsed": false
   },
   "outputs": [
    {
     "name": "stderr",
     "output_type": "stream",
     "text": [
      "C:\\ProgramData\\Anaconda3\\lib\\site-packages\\sklearn\\utils\\deprecation.py:77: DeprecationWarning: Function _ratio_float is deprecated; Use a float for 'ratio' is deprecated from version 0.2. The support will be removed in 0.4. Use a dict, str, or a callable instead.\n",
      "  warnings.warn(msg, category=DeprecationWarning)\n"
     ]
    },
    {
     "name": "stdout",
     "output_type": "stream",
     "text": [
      "Train shape: (431158, 17)\n"
     ]
    }
   ],
   "source": [
    "# Oversample the training set defaults\n",
    "from imblearn.over_sampling import SMOTE\n",
    "\n",
    "numeric_features = [\"A_score\", \"B_score\", \"C_score\", \"D_score\", \"num_employees\",\n",
    "                    \"country_CN\", \"country_EN\", \"country_NL\", \"country_TR\", \"country_US\",\n",
    "                    \"revenue2014\", \"revenue2015\", \"revenue2016\"]\n",
    "\n",
    "numeric_features = [\"A_score\", \"B_score\", \"C_score\", \"D_score\", \"num_employees\",\n",
    "                    \"country_CN\", \"country_EN\", \"country_NL\", \"country_TR\", \"country_US\",\n",
    "                    \"revenue2014\", \"revenue2016\", \"rev_slope\",\n",
    "                    'industry_score_A', 'industry_score_B', 'industry_score_C', 'industry_score_D']\n",
    "\n",
    "#numeric_features = [\"A_score\", \"B_score\", \"C_score\", \"D_score\",\"num_employees\",\n",
    "#                    \"country_CN\", \"country_EN\", \"country_NL\", \"country_TR\", \"country_US\",\n",
    "#                    \"revenue2016\",\"rev_slope\"]\n",
    "\n",
    "sm = SMOTE(random_state=12, ratio = 1.0)\n",
    "x_train_res, y_train_res = sm.fit_sample(training_df[numeric_features], training_df[target])\n",
    "print(\"Train shape:\", x_train_res.shape)"
   ]
  },
  {
   "cell_type": "code",
   "execution_count": 73,
   "metadata": {
    "collapsed": false
   },
   "outputs": [
    {
     "name": "stdout",
     "output_type": "stream",
     "text": [
      "training...\n",
      "Feature weights:\n",
      "A_score -0.06777215291451928\n",
      "B_score -0.06131253709324207\n",
      "C_score 0.019595112555444938\n",
      "D_score -0.09055786170490317\n",
      "num_employees 0.868856141913005\n",
      "country_CN 0.25731483782466635\n",
      "country_EN -0.5086707732194572\n",
      "country_NL 0.4078029723605832\n",
      "country_TR 0.09452081173107928\n",
      "country_US -0.2592105680793795\n",
      "revenue2014 0.10891324730544641\n",
      "revenue2016 -0.6067809674387074\n",
      "rev_slope -0.13054073732652324\n",
      "industry_score_A -1.626529271517716\n",
      "industry_score_B -0.6446188393953758\n",
      "industry_score_C 0.2755390852600605\n",
      "industry_score_D 1.9873663062688407\n"
     ]
    }
   ],
   "source": [
    "from sklearn.linear_model import LogisticRegression\n",
    "\n",
    "lr = LogisticRegression(solver=\"liblinear\")\n",
    "print(\"training...\")\n",
    "lr.fit(x_train_res, y_train_res)\n",
    "\n",
    "print(\"Feature weights:\")\n",
    "for feature, weight in zip(numeric_features, lr.coef_[0].tolist()):\n",
    "    print(feature, weight)"
   ]
  },
  {
   "cell_type": "code",
   "execution_count": 74,
   "metadata": {
    "collapsed": false
   },
   "outputs": [
    {
     "name": "stdout",
     "output_type": "stream",
     "text": [
      "Validation score: 0.870111902263955\n"
     ]
    },
    {
     "name": "stderr",
     "output_type": "stream",
     "text": [
      "C:\\ProgramData\\Anaconda3\\lib\\site-packages\\ipykernel\\__main__.py:4: SettingWithCopyWarning: \n",
      "A value is trying to be set on a copy of a slice from a DataFrame.\n",
      "Try using .loc[row_indexer,col_indexer] = value instead\n",
      "\n",
      "See the caveats in the documentation: http://pandas.pydata.org/pandas-docs/stable/indexing.html#indexing-view-versus-copy\n"
     ]
    }
   ],
   "source": [
    "from sklearn.metrics import roc_auc_score\n",
    "from sklearn.metrics import recall_score\n",
    "\n",
    "validation_df[\"pred\"] = lr.predict_proba(validation_df[numeric_features])[:, 1]\n",
    "\n",
    "print(\"Validation score:\", roc_auc_score(validation_df[target], validation_df[\"pred\"]))\n",
    "#print(\"Validation score:\", recall_score(validation_df[target], validation_df[\"pred\"]))"
   ]
  },
  {
   "cell_type": "code",
   "execution_count": 75,
   "metadata": {
    "collapsed": false
   },
   "outputs": [
    {
     "data": {
      "text/plain": [
       "RandomForestClassifier(bootstrap=True, class_weight=None, criterion='gini',\n",
       "            max_depth=None, max_features='auto', max_leaf_nodes=None,\n",
       "            min_impurity_decrease=0.0, min_impurity_split=None,\n",
       "            min_samples_leaf=1, min_samples_split=2,\n",
       "            min_weight_fraction_leaf=0.0, n_estimators=50, n_jobs=1,\n",
       "            oob_score=False, random_state=0, verbose=0, warm_start=False)"
      ]
     },
     "execution_count": 75,
     "metadata": {},
     "output_type": "execute_result"
    }
   ],
   "source": [
    "from sklearn.ensemble import RandomForestClassifier\n",
    "\n",
    "clf_rf = RandomForestClassifier(n_estimators=50, random_state=0)\n",
    "clf_rf.fit(x_train_res, y_train_res)"
   ]
  },
  {
   "cell_type": "code",
   "execution_count": 76,
   "metadata": {
    "collapsed": false
   },
   "outputs": [
    {
     "name": "stdout",
     "output_type": "stream",
     "text": [
      "Validation score: 0.8478493143134985\n"
     ]
    },
    {
     "name": "stderr",
     "output_type": "stream",
     "text": [
      "C:\\ProgramData\\Anaconda3\\lib\\site-packages\\ipykernel\\__main__.py:1: SettingWithCopyWarning: \n",
      "A value is trying to be set on a copy of a slice from a DataFrame.\n",
      "Try using .loc[row_indexer,col_indexer] = value instead\n",
      "\n",
      "See the caveats in the documentation: http://pandas.pydata.org/pandas-docs/stable/indexing.html#indexing-view-versus-copy\n",
      "  if __name__ == '__main__':\n"
     ]
    }
   ],
   "source": [
    "validation_df[\"pred\"] = clf_rf.predict(validation_df[numeric_features])\n",
    "\n",
    "print(\"Validation score:\", roc_auc_score(validation_df[target], validation_df[\"pred\"]))"
   ]
  },
  {
   "cell_type": "code",
   "execution_count": 77,
   "metadata": {
    "collapsed": false
   },
   "outputs": [
    {
     "data": {
      "text/plain": [
       "AdaBoostClassifier(algorithm='SAMME',\n",
       "          base_estimator=DecisionTreeClassifier(class_weight=None, criterion='gini', max_depth=4,\n",
       "            max_features=None, max_leaf_nodes=None,\n",
       "            min_impurity_decrease=0.0, min_impurity_split=None,\n",
       "            min_samples_leaf=1, min_samples_split=2,\n",
       "            min_weight_fraction_leaf=0.0, presort=False, random_state=None,\n",
       "            splitter='best'),\n",
       "          learning_rate=1, n_estimators=50, random_state=None)"
      ]
     },
     "execution_count": 77,
     "metadata": {},
     "output_type": "execute_result"
    }
   ],
   "source": [
    "from sklearn.tree import DecisionTreeClassifier\n",
    "from sklearn.ensemble import AdaBoostClassifier\n",
    "\n",
    "dt_stump = DecisionTreeClassifier(max_depth=4, min_samples_leaf=1)\n",
    "ada_discrete = AdaBoostClassifier(base_estimator=dt_stump, learning_rate=1, n_estimators=50, algorithm=\"SAMME\")\n",
    "ada_discrete.fit(x_train_res, y_train_res)"
   ]
  },
  {
   "cell_type": "code",
   "execution_count": 78,
   "metadata": {
    "collapsed": false
   },
   "outputs": [
    {
     "name": "stdout",
     "output_type": "stream",
     "text": [
      "Validation score: 0.8330371266500303\n"
     ]
    },
    {
     "name": "stderr",
     "output_type": "stream",
     "text": [
      "C:\\ProgramData\\Anaconda3\\lib\\site-packages\\ipykernel\\__main__.py:1: SettingWithCopyWarning: \n",
      "A value is trying to be set on a copy of a slice from a DataFrame.\n",
      "Try using .loc[row_indexer,col_indexer] = value instead\n",
      "\n",
      "See the caveats in the documentation: http://pandas.pydata.org/pandas-docs/stable/indexing.html#indexing-view-versus-copy\n",
      "  if __name__ == '__main__':\n"
     ]
    }
   ],
   "source": [
    "validation_df[\"pred\"] = ada_discrete.predict(validation_df[numeric_features])\n",
    "\n",
    "print(\"Validation score:\", roc_auc_score(validation_df[target], validation_df[\"pred\"]))"
   ]
  },
  {
   "cell_type": "code",
   "execution_count": 83,
   "metadata": {
    "collapsed": false
   },
   "outputs": [
    {
     "name": "stdout",
     "output_type": "stream",
     "text": [
      "[[ 2.07387239e-01 -9.64507187e-01  2.19037756e-01 -6.98225735e-01\n",
      "  -1.37974998e+00  0.00000000e+00  0.00000000e+00  0.00000000e+00\n",
      "   1.00000000e+00  0.00000000e+00  1.45894978e+00  1.28679709e+00\n",
      "  -5.05250600e-01  1.00000000e+00  0.00000000e+00  0.00000000e+00\n",
      "   0.00000000e+00]\n",
      " [-4.79867713e-01 -2.40214395e-01  2.19037756e-01 -6.98225735e-01\n",
      "  -1.78704026e-03  0.00000000e+00  1.00000000e+00  0.00000000e+00\n",
      "   0.00000000e+00  0.00000000e+00 -3.21433378e-01 -8.49391977e-01\n",
      "  -5.47783253e-01  1.00000000e+00  0.00000000e+00  0.00000000e+00\n",
      "   0.00000000e+00]\n",
      " [-1.85437762e+00  4.84078397e-01 -5.08215033e-01  1.26132545e+00\n",
      "   4.48027680e-01  0.00000000e+00  1.00000000e+00  0.00000000e+00\n",
      "   0.00000000e+00  0.00000000e+00 -1.94653473e-01  4.44800332e-01\n",
      "   8.38291364e-01  0.00000000e+00  1.00000000e+00  0.00000000e+00\n",
      "   0.00000000e+00]\n",
      " [ 1.58189714e+00  1.93266398e+00  9.46290546e-01  1.26132545e+00\n",
      "   1.23677651e-01  0.00000000e+00  0.00000000e+00  0.00000000e+00\n",
      "   1.00000000e+00  0.00000000e+00 -1.05105733e+00 -3.27337628e-01\n",
      "   1.00973932e+00  0.00000000e+00  1.00000000e+00  0.00000000e+00\n",
      "   0.00000000e+00]\n",
      " [ 2.07387239e-01  4.84078397e-01  2.19037756e-01  1.26132545e+00\n",
      "  -9.22919014e-01  0.00000000e+00  1.00000000e+00  0.00000000e+00\n",
      "   0.00000000e+00  0.00000000e+00 -4.39957977e-01 -7.33183889e-01\n",
      "  -2.14177258e-01  1.00000000e+00  0.00000000e+00  0.00000000e+00\n",
      "   0.00000000e+00]]\n"
     ]
    }
   ],
   "source": [
    "print(x_train_res[0:5])"
   ]
  },
  {
   "cell_type": "code",
   "execution_count": 85,
   "metadata": {
    "collapsed": false
   },
   "outputs": [
    {
     "data": {
      "text/plain": [
       "SVC(C=1.0, cache_size=200, class_weight=None, coef0=0.0,\n",
       "  decision_function_shape='ovr', degree=3, gamma='auto', kernel='rbf',\n",
       "  max_iter=-1, probability=False, random_state=None, shrinking=True,\n",
       "  tol=0.001, verbose=False)"
      ]
     },
     "execution_count": 85,
     "metadata": {},
     "output_type": "execute_result"
    }
   ],
   "source": [
    "from sklearn import svm\n",
    "\n",
    "clf = svm.SVC(gamma='auto')\n",
    "clf.fit(x_train_res, y_train_res)"
   ]
  },
  {
   "cell_type": "code",
   "execution_count": 86,
   "metadata": {
    "collapsed": false
   },
   "outputs": [
    {
     "name": "stdout",
     "output_type": "stream",
     "text": [
      "Validation score: 0.8587933588664985\n"
     ]
    },
    {
     "name": "stderr",
     "output_type": "stream",
     "text": [
      "C:\\ProgramData\\Anaconda3\\lib\\site-packages\\ipykernel\\__main__.py:1: SettingWithCopyWarning: \n",
      "A value is trying to be set on a copy of a slice from a DataFrame.\n",
      "Try using .loc[row_indexer,col_indexer] = value instead\n",
      "\n",
      "See the caveats in the documentation: http://pandas.pydata.org/pandas-docs/stable/indexing.html#indexing-view-versus-copy\n",
      "  if __name__ == '__main__':\n"
     ]
    }
   ],
   "source": [
    "validation_df[\"pred\"] = clf.predict(validation_df[numeric_features])\n",
    "\n",
    "print(\"Validation score:\", roc_auc_score(validation_df[target], validation_df[\"pred\"]))"
   ]
  },
  {
   "cell_type": "code",
   "execution_count": null,
   "metadata": {
    "collapsed": true
   },
   "outputs": [],
   "source": [
    "test_df[target] = lr.predict_proba(test_df[numeric_features])[:, 1]\n",
    "\n",
    "print(\"creating submission...\")\n",
    "test_df[[\"id\", target]].to_csv(\"lr_submission.csv\", index=False)"
   ]
  }
 ],
 "metadata": {
  "kernelspec": {
   "display_name": "Python 3",
   "language": "python",
   "name": "python3"
  },
  "language_info": {
   "codemirror_mode": {
    "name": "ipython",
    "version": 3
   },
   "file_extension": ".py",
   "mimetype": "text/x-python",
   "name": "python",
   "nbconvert_exporter": "python",
   "pygments_lexer": "ipython3",
   "version": "3.6.0"
  }
 },
 "nbformat": 4,
 "nbformat_minor": 2
}
