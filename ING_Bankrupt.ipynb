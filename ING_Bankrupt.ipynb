{
 "cells": [
  {
   "cell_type": "code",
   "execution_count": 1,
   "metadata": {
    "collapsed": false
   },
   "outputs": [
    {
     "name": "stdout",
     "output_type": "stream",
     "text": [
      "D:\\Users\\Niels\\Documents\\Machine learning\\python\\ING\n"
     ]
    }
   ],
   "source": [
    "cd D:\\Users\\Niels\\Documents\\Machine learning\\python\\ING"
   ]
  },
  {
   "cell_type": "code",
   "execution_count": 2,
   "metadata": {
    "collapsed": true
   },
   "outputs": [],
   "source": [
    "import pandas as pd\n",
    "import matplotlib.pyplot as plt\n",
    "import numpy as np"
   ]
  },
  {
   "cell_type": "code",
   "execution_count": 12,
   "metadata": {
    "collapsed": false
   },
   "outputs": [
    {
     "name": "stdout",
     "output_type": "stream",
     "text": [
      "   num_employees country                                      industry_desc  \\\n",
      "0          50253      CN  Nonscheduled Chartered Freight Air Transportat...   \n",
      "1           1847      CN                 Offices of Real Estate Appraisers    \n",
      "2          16184      CN                 Nuclear Electric Power Generation    \n",
      "3             25      TR                   Ready-Mix Concrete Manufacturing   \n",
      "4           4968      CN  Motor Vehicle Electrical and Electronic Equipm...   \n",
      "\n",
      "   A_score  B_score  C_score  D_score  revenue2014  revenue2015  revenue2016  \\\n",
      "0      3.0      3.0      3.0      3.0          108          396          629   \n",
      "1      2.0      2.0      4.0      NaN          956          647          513   \n",
      "2      3.0      4.0      NaN      4.0          901         1930         3022   \n",
      "3      2.0      2.0      2.0      NaN        11267         7787         6598   \n",
      "4      NaN      3.0      2.0      5.0         2481         4512         9195   \n",
      "\n",
      "   bankrupt  \n",
      "0         0  \n",
      "1         0  \n",
      "2         0  \n",
      "3         0  \n",
      "4         1  \n",
      "23648\n",
      "Number of lines: 293122 Default probability: 0.08067630542913871\n"
     ]
    }
   ],
   "source": [
    "#data = pd.read_csv(\"train - subsample.csv\")\n",
    "data = pd.read_csv(\"train.csv\")\n",
    "print(data.head())\n",
    "data_orig = data\n",
    "print(data[\"bankrupt\"].sum())\n",
    "print(\"Number of lines: {} Default probability: {}\".format(len(data.index), data[\"bankrupt\"].sum()/len(data.index)))"
   ]
  },
  {
   "cell_type": "code",
   "execution_count": 7,
   "metadata": {
    "collapsed": false
   },
   "outputs": [
    {
     "name": "stdout",
     "output_type": "stream",
     "text": [
      "11\n"
     ]
    },
    {
     "data": {
      "image/png": "[encoded data removed]",
      "text/plain": [
       "<matplotlib.figure.Figure at 0x1ce67323320>"
      ]
     },
     "metadata": {},
     "output_type": "display_data"
    }
   ],
   "source": [
    "# Explore distribution of company size (number of employees)\n",
    "\n",
    "# hist = data[\"num_employees\"].hist(bins=10)\n",
    "min_employees = np.min(data[\"num_employees\"].values)\n",
    "data[\"log_num_employees\"] = data[\"num_employees\"].apply(lambda x: np.log(x - (min_employees - 1 - 0.25)))\n",
    "print(min_employees)\n",
    "hist = data[\"log_num_employees\"].hist(bins=15)\n",
    "hist.plot()\n",
    "plt.show()"
   ]
  },
  {
   "cell_type": "code",
   "execution_count": 8,
   "metadata": {
    "collapsed": false
   },
   "outputs": [
    {
     "name": "stdout",
     "output_type": "stream",
     "text": [
      "Country: NL  Observations: 59038  Default prob: 0.11177546664859919\n",
      "Country: CN  Observations: 58733  Default prob: 0.09892224132940595\n",
      "Country: TR  Observations: 58648  Default prob: 0.08644796071477287\n",
      "Country: US  Observations: 58395  Default prob: 0.06116962068670263\n",
      "Country: EN  Observations: 58308  Default prob: 0.04453934280030185\n"
     ]
    }
   ],
   "source": [
    "# Explore countries.\n",
    "# Get the list of countries with number of occurrences\n",
    "countries = pd.value_counts(data[\"country\"])\n",
    "# Loop through the countries\n",
    "for idx, total in countries.iteritems():\n",
    "    subdata = data.loc[data[\"country\"] == idx][[\"bankrupt\"]]\n",
    "    # Determine the number of bankruptcies and calculate default probability\n",
    "    counts = pd.value_counts(subdata[\"bankrupt\"]).multiply(1./total)\n",
    "    print(\"Country: {}  Observations: {}  Default prob: {}\".format(idx, total, counts.values[-1]))"
   ]
  },
  {
   "cell_type": "code",
   "execution_count": 15,
   "metadata": {
    "collapsed": false
   },
   "outputs": [
    {
     "name": "stdout",
     "output_type": "stream",
     "text": [
      "Number of Industries: 620 Mean No. Occurrences: 472.7774193548387 StDev: 22.220414570864325\n"
     ]
    },
    {
     "data": {
      "image/png": "[encoded data removed]",
      "text/plain": [
       "<matplotlib.figure.Figure at 0x14e6f19d6a0>"
      ]
     },
     "metadata": {},
     "output_type": "display_data"
    }
   ],
   "source": [
    "# Explore industries\n",
    "# Get the list of industries with number of occurrences\n",
    "industries = pd.value_counts(data[\"industry_desc\"])\n",
    "n_industries = industries.size\n",
    "n_data = len(data.index)\n",
    "print(\"Number of Industries: {} Mean No. Occurrences: {} StDev: {}\".format(n_industries, industries.mean(), industries.std()))\n",
    "\n",
    "# Histogram of industry occurrences\n",
    "histInd = industries.hist()\n",
    "histInd.plot()\n",
    "plt.title(\"Distribution of industry occurrences\") \n",
    "plt.show()"
   ]
  },
  {
   "cell_type": "code",
   "execution_count": 8,
   "metadata": {
    "collapsed": false
   },
   "outputs": [
    {
     "data": {
      "image/png": "[encoded data removed]",
      "text/plain": [
       "<matplotlib.figure.Figure at 0x14e6f1d8780>"
      ]
     },
     "metadata": {},
     "output_type": "display_data"
    }
   ],
   "source": [
    "# Loop through the industries. Collect default probability\n",
    "default_ind =[]\n",
    "for idx, total in industries.iteritems():\n",
    "    subdata = data.loc[data[\"industry_desc\"] == idx][[\"bankrupt\"]]\n",
    "    # Determine the number of bankruptcies and calculate default probability\n",
    "    default_prob = 0\n",
    "    if total > 0:\n",
    "        counts = pd.value_counts(subdata[\"bankrupt\"]).multiply(1./total)\n",
    "        default_prob = counts.values[-1]\n",
    "    #print(\"Industry: {}  Observations: {}  Default prob: {}\".format(idx, total, default_prob))\n",
    "    default_ind.append(default_prob)\n",
    "# Distribution of default probabilities by industry\n",
    "plt.hist(default_ind, bins='auto')  # arguments are passed to np.histogram\n",
    "plt.title(\"Distribution of default prob\")\n",
    "plt.show()"
   ]
  },
  {
   "cell_type": "code",
   "execution_count": 31,
   "metadata": {
    "collapsed": false
   },
   "outputs": [
    {
     "name": "stdout",
     "output_type": "stream",
     "text": [
      "[ 0.          0.          0.12226169  0.11096621  0.09827581  0.08449757\n",
      "  0.07629075  0.07178156  0.06618265  0.06289829  0.06666667]\n",
      "[ 0.          0.55555556  1.11111111  1.66666667  2.22222222  2.77777778\n",
      "  3.33333333  3.88888889  4.44444444  5.        ]\n"
     ]
    },
    {
     "data": {
      "image/png": "[encoded data removed]",
      "text/plain": [
       "<matplotlib.figure.Figure at 0x14e6f99cb00>"
      ]
     },
     "metadata": {},
     "output_type": "display_data"
    }
   ],
   "source": [
    "# Expore scores. First look at aggregate scores. Then look per score.\n",
    "scores = data[[\"A_score\", \"B_score\", \"C_score\", \"D_score\"]]\n",
    "mean_scores = scores.mean(axis=1).to_frame()\n",
    "mean_scores.columns = [\"score\"]\n",
    "mean_scores = mean_scores.join(data[\"bankrupt\"])\n",
    "#print(mean_scores.head(20))\n",
    "\n",
    "bins = np.linspace(0.0, 5., 10)\n",
    "bin_numbers = np.digitize(mean_scores[\"score\"].values, bins, right=True)\n",
    "#plt.hist(bin_numbers, bins='auto')  # arguments are passed to np.histogram\n",
    "#plt.title(\"Histogram with 'auto' bins\")\n",
    "#plt.show()\n",
    "\n",
    "score_total = np.zeros(np.max(bin_numbers) + 1)\n",
    "score_bankruptcy = np.zeros(np.max(bin_numbers) + 1)\n",
    "bankruptcy_values = mean_scores[\"bankrupt\"].values\n",
    "for i, v in enumerate(bin_numbers):\n",
    "    score_total[v] += 1\n",
    "    score_bankruptcy[v] += bankruptcy_values[i]\n",
    "bankruptcy_prob = np.zeros(len(score_total))\n",
    "for i in range(len(score_total)):\n",
    "    if score_total[i] > 0:\n",
    "        bankruptcy_prob[i] = score_bankruptcy[i]/score_total[i]\n",
    "\n",
    "#print(score_total)\n",
    "#print(score_bankruptcy)\n",
    "print(bankruptcy_prob)\n",
    "print(bins)\n",
    "\n",
    "plt.bar(bins, bankruptcy_prob[1:], align='center', width=0.25)\n",
    "plt.xticks(bins, np.round(bins,2))\n",
    "plt.ylabel('Probability')\n",
    "plt.title('Probability as function of score')\n",
    " \n",
    "plt.show()"
   ]
  },
  {
   "cell_type": "code",
   "execution_count": 33,
   "metadata": {
    "collapsed": false
   },
   "outputs": [
    {
     "name": "stdout",
     "output_type": "stream",
     "text": [
      "[ 0.          0.11019757  0.08716498  0.07735454  0.07224867  0.06249052\n",
      "  0.08063034]\n",
      "[ 0.  1.  2.  3.  4.  5.]\n"
     ]
    },
    {
     "data": {
      "image/png": "[encoded data removed]",
      "text/plain": [
       "<matplotlib.figure.Figure at 0x14e6f114160>"
      ]
     },
     "metadata": {},
     "output_type": "display_data"
    },
    {
     "name": "stdout",
     "output_type": "stream",
     "text": [
      "[ 0.          0.098794    0.08566633  0.07418267  0.06712204  0.06111141\n",
      "  0.08099348]\n",
      "[ 0.  1.  2.  3.  4.  5.]\n"
     ]
    },
    {
     "data": {
      "image/png": "[encoded data removed]",
      "text/plain": [
       "<matplotlib.figure.Figure at 0x14e6f3269b0>"
      ]
     },
     "metadata": {},
     "output_type": "display_data"
    },
    {
     "name": "stdout",
     "output_type": "stream",
     "text": [
      "[ 0.          0.07996809  0.07965591  0.07986285  0.08340766  0.08041613\n",
      "  0.08140088]\n",
      "[ 0.  1.  2.  3.  4.  5.]\n"
     ]
    },
    {
     "data": {
      "image/png": "[encoded data removed]",
      "text/plain": [
       "<matplotlib.figure.Figure at 0x14e6f7abc88>"
      ]
     },
     "metadata": {},
     "output_type": "display_data"
    },
    {
     "name": "stdout",
     "output_type": "stream",
     "text": [
      "[ 0.          0.098794    0.08566633  0.07418267  0.06712204  0.06111141\n",
      "  0.08099348]\n",
      "[ 0.  1.  2.  3.  4.  5.]\n"
     ]
    },
    {
     "data": {
      "image/png": "[encoded data removed]",
      "text/plain": [
       "<matplotlib.figure.Figure at 0x14e6f0b68d0>"
      ]
     },
     "metadata": {},
     "output_type": "display_data"
    }
   ],
   "source": [
    "# Expore scores. First look at aggregate scores. Then look per score.\n",
    "score_labels = [\"A_score\",\"B_score\",\"C_score\",\"B_score\"]\n",
    "for score in score_labels:\n",
    "    mean_scores = data[[score,\"bankrupt\"]]\n",
    "    #print(mean_scores.head(20))\n",
    "\n",
    "    bins = np.linspace(0.0, 5., 6)\n",
    "    bin_numbers = np.digitize(mean_scores[score].values, bins, right=True)\n",
    "    #plt.hist(bin_numbers, bins='auto')  # arguments are passed to np.histogram\n",
    "    #plt.title(\"Histogram with 'auto' bins\")\n",
    "    #plt.show()\n",
    "\n",
    "    score_total = np.zeros(np.max(bin_numbers) + 1)\n",
    "    score_bankruptcy = np.zeros(np.max(bin_numbers) + 1)\n",
    "    bankruptcy_values = mean_scores[\"bankrupt\"].values\n",
    "    for i, v in enumerate(bin_numbers):\n",
    "        score_total[v] += 1\n",
    "        score_bankruptcy[v] += bankruptcy_values[i]\n",
    "    bankruptcy_prob = np.zeros(len(score_total))\n",
    "    for i in range(len(score_total)):\n",
    "        if score_total[i] > 0:\n",
    "            bankruptcy_prob[i] = score_bankruptcy[i]/score_total[i]\n",
    "\n",
    "    #print(score_total)\n",
    "    #print(score_bankruptcy)\n",
    "    print(bankruptcy_prob)\n",
    "    print(bins)\n",
    "\n",
    "    plt.bar(bins, bankruptcy_prob[1:], align='center', width=0.25)\n",
    "    plt.xticks(bins, np.round(bins,2))\n",
    "    plt.ylabel('Probability')\n",
    "    plt.title('Probability as function of score')\n",
    " \n",
    "    plt.show()"
   ]
  },
  {
   "cell_type": "code",
   "execution_count": null,
   "metadata": {
    "collapsed": false
   },
   "outputs": [
    {
     "name": "stdout",
     "output_type": "stream",
     "text": [
      "Number of Industries: 620 Mean No. Occurrences: 472.7774193548387 StDev: 22.220414570864325\n",
      "       score  bankrupt\n",
      "0   3.000000         0\n",
      "1   2.666667         0\n",
      "2   3.666667         0\n",
      "3   2.000000         0\n",
      "4   3.333333         1\n",
      "5   1.750000         0\n",
      "6   3.000000         0\n",
      "7   1.666667         0\n",
      "8   3.750000         0\n",
      "9   4.500000         0\n",
      "10  2.000000         0\n",
      "11  2.000000         0\n",
      "12  3.500000         0\n",
      "13  3.333333         0\n",
      "14  3.250000         0\n",
      "15  2.000000         0\n",
      "16  2.250000         0\n",
      "17  2.500000         0\n",
      "18  4.250000         0\n",
      "19  2.500000         0\n",
      "[  0.00000000e+00   0.00000000e+00   3.37800000e+03   1.76360000e+04\n",
      "   3.03330000e+04   7.58720000e+04   7.01920000e+04   4.43150000e+04\n",
      "   3.56740000e+04   1.56920000e+04   3.00000000e+01]\n",
      "[  0.00000000e+00   0.00000000e+00   4.13000000e+02   1.95700000e+03\n",
      "   2.98100000e+03   6.41100000e+03   5.35500000e+03   3.18100000e+03\n",
      "   2.36100000e+03   9.87000000e+02   2.00000000e+00]\n",
      "[ 0.          0.          0.12226169  0.11096621  0.09827581  0.08449757\n",
      "  0.07629075  0.07178156  0.06618265  0.06289829  0.06666667]\n",
      "         Count\n",
      "A_score  29381\n",
      "B_score  29311\n",
      "C_score  29410\n",
      "D_score  29267\n",
      "[192417  85250  14276   1149     30]\n",
      "[  6.53744182e+01   2.95056855e+01   4.70747658e+00   4.06528015e-01\n",
      "   5.89171036e-03]\n",
      "[  6.57797661e+01   2.89302253e+01   4.85440703e+00   4.23828585e-01\n",
      "   1.17730162e-02]\n",
      "[  6.58438819e+01   2.90260197e+01   4.77144866e+00   3.48101266e-01\n",
      "   1.05485232e-02]\n",
      "[  6.55443872e+01   2.92555365e+01   4.82961510e+00   3.65013211e-01\n",
      "   5.44795838e-03]\n",
      "        num_employee_label  missing_count\n",
      "9                        1              0\n",
      "10                       1              1\n",
      "20                       1              0\n",
      "41                       1              0\n",
      "50                       1              0\n",
      "60                       1              0\n",
      "64                       1              1\n",
      "65                       1              0\n",
      "76                       1              1\n",
      "130                      1              0\n",
      "131                      1              0\n",
      "144                      1              1\n",
      "149                      1              0\n",
      "151                      1              0\n",
      "189                      1              0\n",
      "190                      1              0\n",
      "228                      1              0\n",
      "236                      1              0\n",
      "241                      1              0\n",
      "288                      1              1\n",
      "309                      1              0\n",
      "317                      1              1\n",
      "339                      1              2\n",
      "447                      1              1\n",
      "468                      1              0\n",
      "474                      1              0\n",
      "481                      1              0\n",
      "489                      1              0\n",
      "494                      1              0\n",
      "511                      1              0\n",
      "...                    ...            ...\n",
      "292570                   1              1\n",
      "292594                   1              1\n",
      "292617                   1              1\n",
      "292669                   1              1\n",
      "292670                   1              2\n",
      "292687                   1              0\n",
      "292749                   1              0\n",
      "292758                   1              0\n",
      "292765                   1              1\n",
      "292773                   1              0\n",
      "292774                   1              0\n",
      "292794                   1              0\n",
      "292814                   1              0\n",
      "292819                   1              1\n",
      "292873                   1              2\n",
      "292885                   1              0\n",
      "292961                   1              0\n",
      "292972                   1              0\n",
      "292992                   1              0\n",
      "293001                   1              0\n",
      "293003                   1              1\n",
      "293006                   1              0\n",
      "293020                   1              0\n",
      "293023                   1              0\n",
      "293029                   1              0\n",
      "293045                   1              0\n",
      "293070                   1              1\n",
      "293075                   1              0\n",
      "293096                   1              0\n",
      "293115                   1              1\n",
      "\n",
      "[16973 rows x 2 columns]\n"
     ]
    },
    {
     "data": {
      "image/png": "[encoded data removed]",
      "text/plain": [
       "<matplotlib.figure.Figure at 0x1ce67323278>"
      ]
     },
     "metadata": {},
     "output_type": "display_data"
    }
   ],
   "source": [
    "# Explore missing data\n",
    "\n",
    "# Total number of missing data per score\n",
    "scores = data[[\"A_score\", \"B_score\", \"C_score\", \"D_score\"]]\n",
    "missing_per_column = pd.DataFrame(scores.isnull().sum(), columns=[\"Count\"])\n",
    "print(missing_per_column)\n",
    "\n",
    "# Missing data per line. Sum number of missing data\n",
    "missing_per_row = pd.DataFrame(scores.isnull().sum(axis=1), columns=[\"missing_count\"])\n",
    "data = data.join(missing_per_row)\n",
    "print(pd.value_counts(missing_per_row[\"missing_count\"]).values)\n",
    "\n",
    "# Distribution of missing data as a function of the number of employees (size of company)\n",
    "\n",
    "bins = [1., 1.7, 2.8, 4, 5.5]\n",
    "binned = pd.DataFrame(np.searchsorted(bins, data[\"log_num_employees\"].values), columns=[\"num_employee_label\"])\n",
    "data = data.join(binned)\n",
    "\n",
    "for i in range(4):\n",
    "    subdata = data.loc[data[\"num_employee_label\"] == i + 1][[\"num_employee_label\", \"missing_count\"]]\n",
    "    print(pd.value_counts(subdata[\"missing_count\"]).values * 100 / len(subdata.index))\n",
    "exit()\n",
    "\n",
    "\n",
    "print(data.loc[data[\"num_employee_label\"] == 1][[\"num_employee_label\",\"missing_count\"]])\n",
    "\n",
    "\n",
    "# print(pd.cut(missing_per_row_data, bins, labels=bins[:-1]))\n",
    "\n",
    "fig, ax = plt.subplots()\n",
    "ax = plt.scatter(data[\"log_num_employees\"].values, data[\"missing_count\"].values)\n",
    "plt.show()"
   ]
  },
  {
   "cell_type": "code",
   "execution_count": null,
   "metadata": {
    "collapsed": true
   },
   "outputs": [],
   "source": []
  },
  {
   "cell_type": "code",
   "execution_count": null,
   "metadata": {
    "collapsed": true
   },
   "outputs": [],
   "source": []
  }
 ],
 "metadata": {
  "kernelspec": {
   "display_name": "Python 3",
   "language": "python",
   "name": "python3"
  },
  "language_info": {
   "codemirror_mode": {
    "name": "ipython",
    "version": 3
   },
   "file_extension": ".py",
   "mimetype": "text/x-python",
   "name": "python",
   "nbconvert_exporter": "python",
   "pygments_lexer": "ipython3",
   "version": "3.6.0"
  }
 },
 "nbformat": 4,
 "nbformat_minor": 2
}
